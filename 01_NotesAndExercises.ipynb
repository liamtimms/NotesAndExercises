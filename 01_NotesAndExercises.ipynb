{
 "cells": [
  {
   "cell_type": "markdown",
   "metadata": {},
   "source": [
    "# 00 Numerical Differentiation"
   ]
  },
  {
   "cell_type": "code",
   "execution_count": 15,
   "metadata": {
    "collapsed": false
   },
   "outputs": [
    {
     "name": "stdout",
     "output_type": "stream",
     "text": [
      "1.000000e+00    3.000000000000000    1.000000000000000\n",
      "1.000000e-01    2.100000000000002    0.100000000000002\n",
      "1.000000e-02    2.010000000000001    0.010000000000001\n",
      "1.000000e-03    2.000999999999697    0.000999999999697\n",
      "1.000000e-04    2.000099999999172    0.000099999999172\n",
      "1.000000e-05    2.000010000013930    0.000010000013930\n",
      "1.000000e-06    2.000000999924367    0.000000999924367\n",
      "1.000000e-07    2.000000101087806    0.000000101087806\n",
      "1.000000e-08    1.999999987845058   -0.000000012154942\n",
      "1.000000e-09    2.000000165480742    0.000000165480742\n",
      "1.000000e-10    2.000000165480742    0.000000165480742\n"
     ]
    }
   ],
   "source": [
    "delta = 1.\n",
    "while(delta>1e-10):\n",
    "    x=1.\n",
    "    d=(x+delta)*(x+delta)-x*x\n",
    "    d=d/delta\n",
    "    print(\"%e %20.15f %20.15f\" %(delta,d,d-2))\n",
    "    delta=delta/10"
   ]
  },
  {
   "cell_type": "code",
   "execution_count": 17,
   "metadata": {
    "collapsed": false
   },
   "outputs": [
    {
     "name": "stdout",
     "output_type": "stream",
     "text": [
      " 1e+00   0.2699544827129282  -0.4371522984736194   0.6780100988420897  -0.0290966823444578\n",
      " 1e-01   0.6706029729039897  -0.0365038082825578   0.7068121901873392  -0.0002945909992084\n",
      " 1e-02   0.7035594916892096  -0.0035472894973380   0.7071038349119818  -0.0000029462745658\n",
      " 1e-03   0.7067531099743674  -0.0003536712121802   0.7071067517236962  -0.0000000294628514\n",
      " 1e-04   0.7070714246693033  -0.0000353565172443   0.7071067808916975  -0.0000000002948500\n",
      " 1e-05   0.7071032456451575  -0.0000035355413901   0.7071067811836861  -0.0000000000028615\n",
      " 1e-06   0.7071064277441862  -0.0000003534423614   0.7071067811281749  -0.0000000000583726\n",
      " 1e-07   0.7071067453789935  -0.0000000358075540   0.7071067809061303  -0.0000000002804172\n",
      " 1e-08   0.7071067842367994   0.0000000030502518   0.7071067731345692  -0.0000000080519784\n",
      " 1e-09   0.7071068175434900   0.0000000363569425   0.7071068175434900   0.0000000363569425\n",
      " 1e-10   0.7071077057219097   0.0000009245353622   0.7071065954988851  -0.0000001856876625\n"
     ]
    }
   ],
   "source": [
    "from math import sin, sqrt, pi\n",
    "delta=1.\n",
    "while(delta>1.e-10):\n",
    "    x=pi/4\n",
    "    d1=sin(x+delta)-sin(x)\n",
    "    d2=sin(x+delta*.5)-sin(x-delta*.5)\n",
    "    d1=d1/delta\n",
    "    d2=d2/delta\n",
    "    print(\"%6.0e %20.16f %20.16f %20.16f %20.16f\" % (delta, d1, d1-sqrt(2.)/2., d2, d2-sqrt(2.)/2.) )\n",
    "    delta = delta / 10."
   ]
  },
  {
   "cell_type": "code",
   "execution_count": 21,
   "metadata": {
    "collapsed": false
   },
   "outputs": [
    {
     "data": {
      "text/plain": [
       "[<matplotlib.lines.Line2D at 0xb12dcf4c>]"
      ]
     },
     "execution_count": 21,
     "metadata": {},
     "output_type": "execute_result"
    },
    {
     "data": {
      "image/png": "[encoded data removed]",
      "text/plain": [
       "<matplotlib.figure.Figure at 0xb4bd570c>"
      ]
     },
     "metadata": {},
     "output_type": "display_data"
    }
   ],
   "source": [
    "%matplotlib inline\n",
    "import numpy as np\n",
    "from matplotlib import pyplot\n",
    "y=lambda x: x*x\n",
    "x1=np.arange(0,10,1)\n",
    "x2=np.arange(0,10,.1)\n",
    "\n",
    "pyplot.plot(x1,np.gradient(y(x1),1.),'r--o')\n",
    "\n",
    "pyplot.plot(x1[:x1.size-1],np.diff(y(x1))/np.diff(x1),'b--x')"
   ]
  },
  {
   "cell_type": "code",
   "execution_count": 38,
   "metadata": {
    "collapsed": false
   },
   "outputs": [
    {
     "name": "stdout",
     "output_type": "stream",
     "text": [
      " 1e+00   3.0000000000000000   1.0000000000000000\n",
      " 1e-01   2.1000000000000001   0.1000000000000000\n",
      " 1e-02   2.0099999999999998   0.0100000000000000\n",
      " 1e-03   2.0009999999999999   0.0010000000000000\n",
      " 1e-04   2.0001000000000002   0.0001000000000000\n",
      " 1e-05   2.0000100000000001   0.0000100000000000\n",
      " 1e-06   2.0000010000000001   0.0000010000000000\n",
      " 1e-07   2.0000000999999998   0.0000001000000000\n",
      " 1e-08   2.0000000099999999   0.0000000100000000\n",
      " 1e-09   2.0000000010000001   0.0000000010000000\n",
      " 1e-10   2.0000000001000000   0.0000000001000000\n"
     ]
    }
   ],
   "source": [
    "from scipy.misc import derivative\n",
    "from math import *\n",
    "from decimal import Decimal\n",
    "f=lambda x: x**2\n",
    "delta=Decimal(\"1.\")\n",
    "while(delta>=Decimal(\"1e-10\")):\n",
    "    x=Decimal(\"1.\")\n",
    "    #d=derivative(f,x,delta,n=1,order=3) gives type error when used with Decimal type\n",
    "    d = ((x+delta)*(x+delta)-x*x)/ delta\n",
    "    print(\"%6.0e %20.16f %20.16f\" % (delta, d, d-Decimal(\"2.\")))\n",
    "    delta = delta / Decimal(\"10.\")"
   ]
  },
  {
   "cell_type": "markdown",
   "metadata": {},
   "source": [
    "# 01 Euler"
   ]
  },
  {
   "cell_type": "markdown",
   "metadata": {},
   "source": [
    "Given:$$\\frac{dT}{dt}=-r(T-T_s),$$\n",
    "where $T$ is the temperature of the body, $T_s$ is the temperature of\n",
    "the environment, and $r$ is a “cooling constant.\"\n",
    "\n",
    "Write: a program to calculate the temperature of a body at a time $t$,\n",
    "given the cooling constant $r$ and the temperature of the body at time\n",
    "$t=0$. Plot the results for $r=0.1\\frac{1}{min}$; $T_0=83^{\\circ} C$\n",
    "using different intervals $\\Delta t$ and compare with exact (analytical)\n",
    "results."
   ]
  },
  {
   "cell_type": "code",
   "execution_count": 65,
   "metadata": {
    "collapsed": false
   },
   "outputs": [
    {
     "name": "stdout",
     "output_type": "stream",
     "text": [
      "0.0     20.315\n",
      "2.5     34.2114773602\n",
      "5.0     45.0272801886\n",
      "7.5     53.4453553447\n",
      "10.0     59.9972489451\n",
      "12.5     65.0966700068\n",
      "15.0     69.065613453\n",
      "17.5     72.1546919754\n",
      "20.0     74.5589605792\n",
      "22.5     76.4302330241\n",
      "25.0     77.8866678656\n",
      "27.5     79.0202293913\n",
      "30.0     79.902494561\n",
      "32.5     80.5891726213\n",
      "35.0     81.1236227782\n",
      "37.5     81.5395920465\n",
      "40.0     81.8633461513\n",
      "42.5     82.1153280365\n",
      "45.0     82.311448702\n",
      "47.5     82.4640918785\n",
      "50.0     82.5828959796\n",
      "52.5     82.6753627033\n",
      "55.0     82.7473307155\n",
      "57.5     82.8033443231\n"
     ]
    },
    {
     "data": {
      "text/plain": [
       "<matplotlib.text.Text at 0xaf705bac>"
      ]
     },
     "execution_count": 65,
     "metadata": {},
     "output_type": "execute_result"
    },
    {
     "data": {
      "image/png": "[encoded data removed]",
      "text/plain": [
       "<matplotlib.figure.Figure at 0xaf978e6c>"
      ]
     },
     "metadata": {},
     "output_type": "display_data"
    }
   ],
   "source": [
    "%matplotlib inline\n",
    "import numpy as np\n",
    "from matplotlib import pyplot\n",
    "T0=20.   # initial temp\n",
    "Te=83.   # intial environ temp\n",
    "r=.1     # cooling const\n",
    "dt=.05   # time step\n",
    "tmax=60. # end time\n",
    "steps=int(tmax/dt) #initialize steps\n",
    "time=np.zeros(steps) #initialize time array\n",
    "temp=np.zeros(steps) #initialize temperature array\n",
    "\n",
    "T=T0\n",
    "for i in range(0,steps):\n",
    "    time[i]=i*dt\n",
    "    temp[i]= T\n",
    "    T=T-r*(T-Te)*dt\n",
    "    if (i%50 ==0): #prints every 50 timesteps\n",
    "        print i*dt,\"   \", T\n",
    "    \n",
    "pyplot.plot(time, temp, color='#003366', ls='-', lw=2)\n",
    "pyplot.xlabel('time')\n",
    "pyplot.ylabel('temp')    \n",
    "    "
   ]
  },
  {
   "cell_type": "code",
   "execution_count": 72,
   "metadata": {
    "collapsed": false
   },
   "outputs": [],
   "source": [
    "def euler(y, f, dx):\n",
    "    return y + f*dx\n",
    "\n",
    "T=T0 \n",
    "for i in range (1, steps):\n",
    "    T=euler(T, -r*(T-Te), dt)\n",
    "    temp[i]=T"
   ]
  },
  {
   "cell_type": "code",
   "execution_count": 75,
   "metadata": {
    "collapsed": false
   },
   "outputs": [
    {
     "data": {
      "image/png": "[encoded data removed]",
      "text/plain": [
       "<matplotlib.figure.Figure at 0xaf68bd4c>"
      ]
     },
     "metadata": {},
     "output_type": "display_data"
    }
   ],
   "source": [
    "t0 = 10.   # initial temperature\n",
    "ts = 83.   # temp. of the environment\n",
    "r = 0.1    # cooling rate\n",
    "dt = 0.05  # time step\n",
    "tmax = 60. # maximum time\n",
    "nsteps = int(tmax/dt)  # number of steps\n",
    "my_time = np.zeros(nsteps)\n",
    "my_temp = np.zeros(nsteps)\n",
    "dt = 1.\n",
    "my_color = ['#003366','#663300','#660033','#330066']\n",
    "for j in range(0,4):\n",
    "    nsteps = int(tmax/dt)    #the arrays will have different size for different time steps\n",
    "    my_time = np.linspace(dt,tmax,nsteps) \n",
    "    my_temp = np.zeros(nsteps)\n",
    "    t = t0\n",
    "    for i in range(1,nsteps):\n",
    "        t = euler(t, -r*(t-ts), dt)\n",
    "        my_temp[i] = t\n",
    "        \n",
    "    pyplot.plot(my_time, my_temp, color=my_color[j], ls='-', lw=3)\n",
    "    dt = dt/2.\n",
    "\n",
    "pyplot.xlabel('time');\n",
    "pyplot.ylabel('temperature');\n",
    "pyplot.xlim(8,10)\n",
    "pyplot.ylim(50,58);"
   ]
  },
  {
   "cell_type": "markdown",
   "metadata": {},
   "source": [
    "### Challenge 1.1\n"
   ]
  },
  {
   "cell_type": "code",
   "execution_count": 12,
   "metadata": {
    "collapsed": false
   },
   "outputs": [
    {
     "name": "stdout",
     "output_type": "stream",
     "text": [
      "at time= 10 with dt=              1.00000, the temp is        57.5464738727 degrees\n",
      "at time= 10 with dt=              0.50000, the temp is        56.8305276642 degrees\n",
      "at time= 10 with dt=              0.25000, the temp is        56.4840318882 degrees\n",
      "at time= 10 with dt=              0.12500, the temp is        56.3135254846 degrees\n"
     ]
    },
    {
     "data": {
      "text/plain": [
       "[<matplotlib.lines.Line2D at 0xaf42946c>]"
      ]
     },
     "execution_count": 12,
     "metadata": {},
     "output_type": "execute_result"
    },
    {
     "data": {
      "image/png": "[encoded data removed]",
      "text/plain": [
       "<matplotlib.figure.Figure at 0xae3298ec>"
      ]
     },
     "metadata": {},
     "output_type": "display_data"
    }
   ],
   "source": [
    "import numpy as np\n",
    "from matplotlib import pyplot\n",
    "%matplotlib inline\n",
    "\n",
    "t0 = 10.   # initial temperature\n",
    "ts = 83.   # temp. of the environment\n",
    "r = 0.1    # cooling rate\n",
    "dt = 0.05  # time step\n",
    "tmax = 60. # maximum time\n",
    "nsteps = int(tmax/dt)  # number of steps\n",
    "my_time = np.zeros(nsteps)\n",
    "my_temp = np.zeros(nsteps)\n",
    "dt = 1.\n",
    "my_color = ['#003366','#663300','#660033','#330066']\n",
    "euler = lambda y, f, dx: y + f*dx \n",
    "n=4\n",
    "tempAxis=np.zeros(n)\n",
    "dtAxis=np.zeros(n)\n",
    "\n",
    "\n",
    "for j in range(0,n):\n",
    "    nsteps = int(tmax/dt)    #the arrays will have different size for different time steps\n",
    "    my_time = np.linspace(dt,tmax,nsteps) \n",
    "    my_temp = np.zeros(nsteps)\n",
    "    t = t0\n",
    "    for i in range(1,nsteps):\n",
    "        t = euler(t, -r*(t-ts), dt)\n",
    "        my_temp[i] = t\n",
    "        if ((i*dt)==10):\n",
    "            print(\"at time= %02d with dt= %20.5f, the temp is %20.10f degrees\"% (i*dt, dt, t))\n",
    "            tempAxis[j]=t\n",
    "    dtAxis[j]=dt\n",
    "    dt = dt/2.\n",
    "    \n",
    "pyplot.plot(dtAxis, tempAxis, '#003366', ls='-', lw=3)\n"
   ]
  },
  {
   "cell_type": "markdown",
   "metadata": {},
   "source": [
    "# 02 Higher Order Methods"
   ]
  },
  {
   "cell_type": "markdown",
   "metadata": {},
   "source": [
    "we obtain\n",
    "$$y_{n+1}=y_n+\\Delta x(\\frac{3}{2}f_n-\\frac{1}{2}f_{n-1})+O(\\Delta x^3)$$\n",
    "Note that the value of $y_0$ is not sufficient information to get this\n",
    "algorithm started. The value of $y_1$ has to be obtained first by some\n",
    "other procedure, like the ones described previously. This means that the\n",
    "method is not **\"self starting\"**."
   ]
  },
  {
   "cell_type": "markdown",
   "metadata": {},
   "source": [
    "**Second Order Runge-Kutta Method** $$\\begin{eqnarray}\n",
    "k&=&\\Delta x f(x_n,y_x), \\\\\n",
    "y_{n+1}&=&y_n+\\Delta x f(x+1/2\\Delta x, y_n+1/2k) + O(\\Delta \n",
    "x^3).\\end{eqnarray}$$\n",
    "\n",
    "**Fourth Order Runge-Kutta Method**\n",
    "$$\\begin{eqnarray}\n",
    " k_1&=&\\Delta x f(x_n,y_n), \\\\\n",
    " k_2&=&\\Delta x f(x_n+1/2\\Delta x,y_n+1/2k_1), \\\\\n",
    " k_3&=&\\Delta x f(x_n+1/2\\Delta x,y_n+1/2k_2), \\\\\n",
    " k_4&=&\\Delta x f(x_n+\\Delta x,y_n+k_3), \\\\\n",
    " y_{n+1}&=&y_n+\\frac{1}{6}(k_1+2k_2+2k_3+k_4)+O(\\Delta x^5).\\end{eqnarray}$$\n"
   ]
  },
  {
   "cell_type": "markdown",
   "metadata": {},
   "source": [
    "### Challenge 1.2"
   ]
  },
  {
   "cell_type": "code",
   "execution_count": null,
   "metadata": {
    "collapsed": true
   },
   "outputs": [],
   "source": [
    "import numpy as np\n",
    "from matplotlib import pyplot\n",
    "%matplotlib inline\n",
    "\n",
    "T0 = 10.   # initial temperature\n",
    "Ts = 83.   # temp. of the environment\n",
    "r = 0.1    # cooling rate\n",
    "dt = 0.05  # time step\n",
    "tmax = 60. # maximum time\n",
    "nsteps = int(tmax/dt)  # number of steps\n",
    "timeAxis = np.zeros(nsteps)\n",
    "tempAxis = np.zeros(nsteps)\n",
    "dt = 1.\n",
    "my_color = ['#003366','#663300','#660033','#330066']\n",
    "f= lambda r, t, ts: -r*(t-ts)\n",
    "\n",
    "euler = lambda y, f, dx: y + f*dx\n",
    "def rk4(y, f, r, ts, dt)\n",
    "    k1=f(r,t,ts)*dt\n",
    "    k2=f(r,t+dt/2,ts)*dt\n",
    "\n",
    "    \n",
    "    \n",
    "    \n",
    "n=4\n",
    "tempAxis=np.zeros(n)\n",
    "dtAxis=np.zeros(n)\n",
    "\n",
    "\n",
    "for j in range(0,n):\n",
    "    nsteps = int(tmax/dt)    #the arrays will have different size for different time steps\n",
    "    my_time = np.linspace(dt,tmax,nsteps) \n",
    "    my_temp = np.zeros(nsteps)\n",
    "    t = t0\n",
    "    for i in range(1,nsteps):\n",
    "        t = euler(t, f, dt)\n",
    "        my_temp[i] = t\n",
    "        if ((i*dt)==10):\n",
    "            print(\"at time= %02d with dt= %20.5f, the temp is %20.10f degrees\"% (i*dt, dt, t))\n",
    "            tempAxis[j]=t\n",
    "    dtAxis[j]=dt\n",
    "    dt = dt/2.\n",
    "    \n",
    "pyplot.plot(dtAxis, tempAxis, '#003366', ls='-', lw=3)"
   ]
  },
  {
   "cell_type": "markdown",
   "metadata": {},
   "source": [
    "# 03 Second Order ODEs: Equations of Motion "
   ]
  },
  {
   "cell_type": "markdown",
   "metadata": {},
   "source": [
    "## Exercise 1.2 and 1.3"
   ]
  },
  {
   "cell_type": "markdown",
   "metadata": {},
   "source": [
    "wait... python is an object based programing language!?\n",
    "\n",
    "Ok on to buisness:\n",
    "\n",
    "Netforce on the falling object at any point is going to be $F_net=F_g-F_d=mg(1-\\frac{v}{v_t})$, and \n"
   ]
  },
  {
   "cell_type": "code",
   "execution_count": 2,
   "metadata": {
    "collapsed": false
   },
   "outputs": [
    {
     "data": {
      "text/plain": [
       "[<matplotlib.lines.Line2D at 0xb010c12c>]"
      ]
     },
     "execution_count": 2,
     "metadata": {},
     "output_type": "execute_result"
    },
    {
     "data": {
      "image/png": "[encoded data removed]",
      "text/plain": [
       "<matplotlib.figure.Figure at 0xb31ec14c>"
      ]
     },
     "metadata": {},
     "output_type": "display_data"
    }
   ],
   "source": [
    "class particle1D(object):\n",
    "\n",
    "    def __init__(self, m=1, y=0, v=0):\n",
    "        self.m=m\n",
    "        self.y=y\n",
    "        self.v=v\n",
    "    \n",
    "    def euler(self, f, dt):\n",
    "        self.v=self.v+(f/self.m)*dt\n",
    "        self.y=self.y+self.v*dt\n",
    "        \n",
    "class particle2D(object):\n",
    "    \n",
    "    def __init__(self, m=1., x=0., y=0., vx=0., vy=0.):\n",
    "        self.m = m\n",
    "        self.x = x\n",
    "        self.y = y\n",
    "        self.vx = vx\n",
    "        self.vy = vy\n",
    "       \n",
    "    def euler(self, fx, fy, dt):\n",
    "        self.vx = self.vx + fx/self.m*dt\n",
    "        self.vy = self.vy + fy/self.m*dt\n",
    "        self.x = self.x + self.vx*dt\n",
    "        self.y = self.y + self.vy*dt\n",
    "        \n",
    "%matplotlib inline\n",
    "import numpy as np\n",
    "from matplotlib import pyplot\n",
    "\n",
    "g=9.81\n",
    "m=.01\n",
    "y0=300.\n",
    "y=[y0]\n",
    "x0=0\n",
    "x=[x0]\n",
    "vy0=0\n",
    "vy=[vy0]\n",
    "vx0=0\n",
    "vx=[vx0]\n",
    "v0=(vy0**2+vx0**2)**(1/2)\n",
    "v=[v0]\n",
    "vt=30. #vt=v when Fg and Fd are equal\n",
    "k2=m*g/vt**2\n",
    "\n",
    "dt=.1\n",
    "t=[0.]\n",
    "\n",
    "Fg=m*g\n",
    "ball=particle1D(m, y0, v0)\n",
    "\n",
    "while ball.y>0.:\n",
    "    Fd=k2*ball.v*abs(ball.v)\n",
    "    Fy=-Fg-Fd\n",
    "    ball.euler(Fy, dt)\n",
    "    y.append(ball.y)\n",
    "    v.append(ball.v)\n",
    "    t.append(t[-1]+dt)\n",
    "\n",
    "tAxis=np.array(t)\n",
    "yAxis=np.array(y)\n",
    "vAxis=np.array(v)\n",
    "\n",
    "pyplot.plot(tAxis,yAxis, color=\"#FF0000\", ls='-', lw=3)\n",
    "pyplot.xlabel('Time (s)')\n",
    "pyplot.ylabel('Position (m) an velocity (m/s)')\n",
    "\n",
    "#NEED TO ASK ABOUT HOW TO CREATE MULTIPLE PLOTS AT ONCE\n",
    "pyplot.plot(tAxis, vAxis, color=\"#0000FF\", ls='-', lw=3)\n",
    "#pyplot.ylabel('position(m)');"
   ]
  },
  {
   "cell_type": "markdown",
   "metadata": {
    "collapsed": true
   },
   "source": []
  },
  {
   "cell_type": "code",
   "execution_count": null,
   "metadata": {
    "collapsed": true
   },
   "outputs": [],
   "source": []
  },
  {
   "cell_type": "markdown",
   "metadata": {},
   "source": [
    "## Exercise 1.5"
   ]
  },
  {
   "cell_type": "markdown",
   "metadata": {},
   "source": [
    "**Challenge 1.2**"
   ]
  },
  {
   "cell_type": "code",
   "execution_count": 20,
   "metadata": {
    "collapsed": false
   },
   "outputs": [
    {
     "name": "stdout",
     "output_type": "stream",
     "text": [
      "In meters, the percent difference will be greater than or equal to 1% when the initial height is:\n",
      "129300.0\n"
     ]
    }
   ],
   "source": [
    "class particle1D(object):\n",
    "\n",
    "    def __init__(self, m=1, y=0, v=0):\n",
    "        self.m=m\n",
    "        self.y=y\n",
    "        self.v=v\n",
    "    \n",
    "    def euler(self, f, dt):\n",
    "        self.v=self.v+(f/self.m)*dt\n",
    "        self.y=self.y+self.v*dt\n",
    "        \n",
    "    def Fd(self, k2=0.):\n",
    "        F=k2*self.v*abs(self.v)*1.\n",
    "        return F\n",
    "    \n",
    "    def Fg_approx(self, g):\n",
    "        F=self.m*g\n",
    "        return F\n",
    "    \n",
    "    def Fg_real(self, g, R):\n",
    "        F=m*g/(1+self.y/R)**2\n",
    "        return F\n",
    "    \n",
    "    def finalv(self, o=1, g=9.81, R=6370000., dt=.1):\n",
    "        while self.y>0.:\n",
    "            if (o==1):\n",
    "                Fy=-self.Fg_approx(g)-self.Fd()\n",
    "            else:\n",
    "                Fy=-self.Fg_real(g,R)-self.Fd()               \n",
    "            self.euler(Fy, dt)\n",
    "        return self.v\n",
    "              \n",
    "\n",
    "%matplotlib inline\n",
    "import numpy as np\n",
    "from matplotlib import pyplot as pyp\n",
    "\n",
    "g=9.81\n",
    "m=.01\n",
    "R=6370000.\n",
    "y0=10000.\n",
    "v0=0\n",
    "#v=0.\n",
    "vt=30. \n",
    "#k2=m*g/vt**2\n",
    "#k2=0.\n",
    "\n",
    "dt=.1\n",
    "dy=100.\n",
    "diff=0. #the percent difference between the two y's\n",
    "ball1=particle1D(m, y0, v0)\n",
    "ball2=particle1D(m, y0, v0)\n",
    "y1=[y0]\n",
    "y2=[y0]\n",
    "\n",
    "\n",
    "while diff<.01:\n",
    "    ball1.y=y0\n",
    "    ball1.v=v0\n",
    "    ball2.y=y0\n",
    "    ball2.v=v0\n",
    "    o=1\n",
    "    Finalv1=ball1.finalv(o, dt)\n",
    "    o=2\n",
    "    Finalv2=ball2.finalv(o, dt)\n",
    "    diff=abs((Finalv1-Finalv2)/Finalv1)\n",
    "    #print(\"%5.5f %5.5f %5.5f %5.5f\"% (y0, Finalv1, Finalv2, diff))\n",
    "    y0=y0+dy\n",
    "\n",
    "print(\"In meters, the percent difference will be greater than or equal to 1% when the initial height is:\")\n",
    "print(y0)\n",
    "\n"
   ]
  },
  {
   "cell_type": "code",
   "execution_count": null,
   "metadata": {
    "collapsed": true
   },
   "outputs": [],
   "source": [
    "class particle2D(object):\n",
    "\n",
    "    def __init__(self, m=1, x=, y=0, vx=0, vy=0):\n",
    "        self.m=m\n",
    "        self.x=x\n",
    "        self.y=y\n",
    "        self.vx=vx\n",
    "        self.vy=vy\n",
    "    \n",
    "    def euler(self, Fx, Fy, dt):\n",
    "        self.vx=self.vx+(Fx/self.m)*dt\n",
    "        self.vy-self.vy+(Fy/self.m)*dt\n",
    "        self.y=self.y+self.vy*dt\n",
    "        self.x=self.x+self.vx*dt\n",
    "        \n",
    "    def Fd(self, k2=0.):\n",
    "        F=k2*self.v*abs(self.v)*1.\n",
    "        return F\n",
    "    \n",
    "    def Fg_approx(self, g):\n",
    "        F=self.m*g\n",
    "        return F\n",
    "    \n",
    "    def Fg_real(self, g, R):\n",
    "        F=m*g/(1+self.y/R)**2\n",
    "        return F\n",
    "    \n",
    "    def finalv(self, o=1, g=9.81, R=6370000., dt=.1):\n",
    "        while self.y>0.:\n",
    "            if (o==1):\n",
    "                Fy=-self.Fg_approx(g)-self.Fd()\n",
    "            else:\n",
    "                Fy=-self.Fg_real(g,R)-self.Fd()               \n",
    "            self.euler(Fy, dt)\n",
    "        return self.v"
   ]
  }
 ],
 "metadata": {
  "kernelspec": {
   "display_name": "Python 2",
   "language": "python",
   "name": "python2"
  },
  "language_info": {
   "codemirror_mode": {
    "name": "ipython",
    "version": 2
   },
   "file_extension": ".py",
   "mimetype": "text/x-python",
   "name": "python",
   "nbconvert_exporter": "python",
   "pygments_lexer": "ipython2",
   "version": "2.7.10"
  }
 },
 "nbformat": 4,
 "nbformat_minor": 0
}
