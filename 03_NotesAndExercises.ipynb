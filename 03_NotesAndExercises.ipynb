{
 "cells": [
  {
   "cell_type": "markdown",
   "metadata": {},
   "source": [
    "### Challenge 3.3"
   ]
  },
  {
   "cell_type": "code",
   "execution_count": 20,
   "metadata": {
    "collapsed": false
   },
   "outputs": [
    {
     "data": {
      "image/png": "[encoded data removed]",
      "text/plain": [
       "<matplotlib.figure.Figure at 0xafef5e4c>"
      ]
     },
     "metadata": {},
     "output_type": "display_data"
    }
   ],
   "source": [
    "%matplotlib inline\n",
    "import math\n",
    "import numpy as np\n",
    "from matplotlib import pyplot\n",
    "\n",
    "\n",
    "class particle(object):\n",
    "    \n",
    "    def __init__(self, mass=1., theta=0., omega=0.):\n",
    "        self.mass = mass\n",
    "        self.theta = theta\n",
    "        self.omega = omega\n",
    "        \n",
    "    def euler(self, f, dt):\n",
    "        self.y = self.y + self.v*dt\n",
    "        self.v = self.v + f/self.mass*dt\n",
    "        \n",
    "    def euler_cromer(self, f, dt):\n",
    "        self.omega = self.omega + f/self.mass*dt\n",
    "        self.theta = self.theta + self.omega*dt\n",
    "        \n",
    "\n",
    "\n",
    "\n",
    "theta0= math.pi * .9\n",
    "omega0=1.\n",
    "g=9.81\n",
    "L=1.\n",
    "\n",
    "\n",
    "p = particle(1., theta0, omega0)  # if the mass is m=1 then p = v (except for the units!)\n",
    "\n",
    "tmax = 10.\n",
    "dt = 0.0001\n",
    "nsteps = int(tmax/dt)    #the arrays will have different size for different time steps\n",
    "\n",
    "t = np.linspace(0.,tmax,nsteps) \n",
    "thetalist = np.zeros(nsteps)\n",
    "omegalist = np.zeros(nsteps)\n",
    "thetalist[0] = theta0\n",
    "\n",
    "for i in range(1,nsteps):\n",
    "#    p.euler(-4*math.pi**2*p.y, dt)\n",
    "    p.euler_cromer(-g/L*math.sin(p.theta),dt)\n",
    "    t[i] = t[i-1]+dt\n",
    "    omegalist[i] = p.omega\n",
    "    thetalist[i] = p.theta\n",
    "        \n",
    "pyplot.plot(t, omegalist, color=\"#FF0000\", ls='-', lw=3)\n",
    "pyplot.xlabel('time(s)')\n",
    "pyplot.ylabel('omega (rad/s)');"
   ]
  },
  {
   "cell_type": "code",
   "execution_count": null,
   "metadata": {
    "collapsed": true
   },
   "outputs": [],
   "source": []
  }
 ],
 "metadata": {
  "kernelspec": {
   "display_name": "Python 2",
   "language": "python",
   "name": "python2"
  },
  "language_info": {
   "codemirror_mode": {
    "name": "ipython",
    "version": 2
   },
   "file_extension": ".py",
   "mimetype": "text/x-python",
   "name": "python",
   "nbconvert_exporter": "python",
   "pygments_lexer": "ipython2",
   "version": "2.7.10"
  }
 },
 "nbformat": 4,
 "nbformat_minor": 0
}
