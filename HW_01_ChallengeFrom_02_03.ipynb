{
 "cells": [
  {
   "cell_type": "code",
   "execution_count": 3,
   "metadata": {
    "collapsed": false
   },
   "outputs": [
    {
     "name": "stdout",
     "output_type": "stream",
     "text": [
      "-1.54477767561\n",
      "0.0286350486616\n",
      "0.0320090119363\n",
      "0.043745765757\n"
     ]
    },
    {
     "data": {
      "text/plain": [
       "[<matplotlib.lines.Line2D at 0x77d4cdcc>]"
      ]
     },
     "execution_count": 3,
     "metadata": {},
     "output_type": "execute_result"
    },
    {
     "data": {
      "image/png": "[encoded data removed]",
      "text/plain": [
       "<matplotlib.figure.Figure at 0x77d4cd2c>"
      ]
     },
     "metadata": {},
     "output_type": "display_data"
    }
   ],
   "source": [
    "%matplotlib inline\n",
    "import numpy as np\n",
    "from matplotlib import pyplot\n",
    "from matplotlib.colors import ColorConverter as cc\n",
    "import math\n",
    "\n",
    "class particle(object):\n",
    "    \n",
    "    def __init__(self, m, x=0., y=0., vx=0., vy=0., Fx=0., Fy=0., KE=0.):\n",
    "        self.m = m\n",
    "        self.x = x\n",
    "        self.y = y\n",
    "        self.vx = vx\n",
    "        self.vy = vy\n",
    "        self.Fx=Fx\n",
    "        self.Fy=Fx\n",
    "        self.KE=KE\n",
    "    \n",
    "    def get_Forces(self, Vo, a):\n",
    "        r=self.get_r()\n",
    "        factor=24*Vo*(-3*a**6/r**7+1/r**4)*a**6\n",
    "        self.Fx=factor*self.x\n",
    "        self.Fy=factor*self.y\n",
    "        \n",
    "    def get_r(self):\n",
    "        return math.sqrt(self.x**2+self.y**2)\n",
    "\n",
    "    def euler(self, f, dt):\n",
    "        self.y = self.y + self.v*dt\n",
    "        self.v = self.v + f/self.mass*dt\n",
    "        \n",
    "    def euler_cromer(self, f, dt):\n",
    "        self.omega = self.omega + f/self.mass*dt\n",
    "        self.theta = self.theta + self.omega*dt\n",
    "\n",
    "                \n",
    "    def verlet(self, Vo, a, dt):\n",
    "        self.get_Forces(Vo, a)\n",
    "        self.x += self.vx*dt +.5*self.Fx/self.m*dt**2\n",
    "        self.y += self.vy*dt + .5*self.Fy/self.m*dt**2\n",
    "        self.vx += .5*self.Fx/self.m*dt\n",
    "        self.vy += .5*self.Fy/self.m*dt\n",
    "        self.get_Forces(Vo, a)\n",
    "        self.vx += .5*self.Fx/self.m*dt\n",
    "        self.vy += .5*self.Fy/self.m*dt\n",
    "\n",
    "\n",
    "db = 20.             \n",
    "bo=1.\n",
    "bmax = 100.\n",
    "bsteps = int((bmax-bo)/db)\n",
    "\n",
    "dt = 0.001\n",
    "tmax = 1000.\n",
    "tsteps = int(tmax/dt) \n",
    "\n",
    "Eo=3.\n",
    "rmax=1000.\n",
    "\n",
    "a=1.\n",
    "Vo=1.\n",
    "\n",
    "ts = np.zeros(shape=(bsteps,tsteps))\n",
    "xs = np.zeros(shape=(bsteps,tsteps))\n",
    "ys = np.zeros(shape=(bsteps,tsteps))\n",
    "vxs = np.zeros(shape=(bsteps,tsteps))\n",
    "vys = np.zeros(shape=(bsteps,tsteps))\n",
    "Es = np.zeros(shape=(bsteps,tsteps))\n",
    "bs=np.zeros(shape=(bsteps))\n",
    "thetas=np.zeros(shape=(bsteps))\n",
    "\n",
    "m=1. #defines masses and starting positions, start along x axis for circular orbits\n",
    "\n",
    "b=bo\n",
    "for n in range(0, bsteps):\n",
    "    p=particle(m, -rmax, b, math.sqrt(2*Eo/m), 0., 0., 0.)\n",
    "    for i in range(0, tsteps):\n",
    "            xs[n,i] = p.x\n",
    "            ys[n,i] = p.y\n",
    "            vxs[n,i]= p.vx\n",
    "            vys[n,i]= p.vy\n",
    "            Es[n,i] = p.KE\n",
    "            ts[n,i]=i*dt\n",
    "            p.verlet(Vo, a, dt)\n",
    "    thetas[n]=math.atan(p.y/p.x)\n",
    "    print(thetas[n])\n",
    "    bs[n]=b\n",
    "    b+=db\n",
    " \n",
    "\n",
    "#pyplot.plot(bs, thetas, color=\"#FF0000\", ls='-', lw=3)\n",
    "\n",
    "pyplot.plot(xs[0,:], ys[0,:], color=\"red\", ls='-', lw=3)\n",
    "pyplot.plot(xs[1,:], ys[1,:], color=\"blue\", ls='-', lw=3)"
   ]
  },
  {
   "cell_type": "code",
   "execution_count": 2,
   "metadata": {
    "collapsed": false
   },
   "outputs": [
    {
     "data": {
      "text/plain": [
       "[<matplotlib.lines.Line2D at 0xb553706c>]"
      ]
     },
     "execution_count": 2,
     "metadata": {},
     "output_type": "execute_result"
    },
    {
     "data": {
      "image/png": "[encoded data removed]",
      "text/plain": [
       "<matplotlib.figure.Figure at 0xb55165cc>"
      ]
     },
     "metadata": {},
     "output_type": "display_data"
    }
   ],
   "source": [
    "#pyplot.plot(xs[0,:], ys[0,:], color=\"red\", ls='-', lw=3)\n",
    "pyplot.plot(xs[1,:], ys[1,:], color=\"blue\", ls='-', lw=3)\n",
    "pyplot.plot(xs[2,:], ys[2,:], color=\"green\", ls='-', lw=3)\n"
   ]
  },
  {
   "cell_type": "code",
   "execution_count": null,
   "metadata": {
    "collapsed": true
   },
   "outputs": [],
   "source": []
  }
 ],
 "metadata": {
  "kernelspec": {
   "display_name": "Python 2",
   "language": "python",
   "name": "python2"
  },
  "language_info": {
   "codemirror_mode": {
    "name": "ipython",
    "version": 2
   },
   "file_extension": ".py",
   "mimetype": "text/x-python",
   "name": "python",
   "nbconvert_exporter": "python",
   "pygments_lexer": "ipython2",
   "version": "2.7.10"
  }
 },
 "nbformat": 4,
 "nbformat_minor": 0
}
