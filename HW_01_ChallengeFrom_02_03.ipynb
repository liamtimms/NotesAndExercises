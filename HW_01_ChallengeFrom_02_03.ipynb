{
 "cells": [
  {
   "cell_type": "code",
   "execution_count": 25,
   "metadata": {
    "collapsed": false
   },
   "outputs": [
    {
     "name": "stdout",
     "output_type": "stream",
     "text": [
      "-1.54477767561\n",
      "0.0286350486616\n",
      "0.0320090119363\n",
      "0.043745765757\n"
     ]
    },
    {
     "data": {
      "text/plain": [
       "[<matplotlib.lines.Line2D at 0xad23b9cc>]"
      ]
     },
     "execution_count": 25,
     "metadata": {},
     "output_type": "execute_result"
    },
    {
     "data": {
      "image/png": "[encoded data removed]",
      "text/plain": [
       "<matplotlib.figure.Figure at 0xad4cc26c>"
      ]
     },
     "metadata": {},
     "output_type": "display_data"
    }
   ],
   "source": [
    "%matplotlib inline\n",
    "import numpy as np\n",
    "from matplotlib import pyplot\n",
    "from matplotlib.colors import ColorConverter as cc\n",
    "import math\n",
    "\n",
    "class particle(object):\n",
    "    \n",
    "    def __init__(self, m, x=0., y=0., vx=0., vy=0., Fx=0., Fy=0., KE=0.):\n",
    "        self.m = m\n",
    "        self.x = x\n",
    "        self.y = y\n",
    "        self.vx = vx\n",
    "        self.vy = vy\n",
    "        self.Fx=Fx \n",
    "        self.Fy=Fx\n",
    "        self.KE=KE\n",
    "    \n",
    "    def get_Forces(self, Vo, a):\n",
    "        r=self.get_r()\n",
    "        factor=24*Vo*(-3*a**6/r**7+1/r**4)*a**6\n",
    "        self.Fx=factor*self.x\n",
    "        self.Fy=factor*self.y\n",
    "        \n",
    "    def get_r(self):\n",
    "        return math.sqrt(self.x**2+self.y**2)\n",
    "    \n",
    "    def update_E(self):\n",
    "        self.KE=.5*self.m*(self.vx**2+self.vy**2)\n",
    "\n",
    "    def euler(self, f, dt):\n",
    "        self.y = self.y + self.v*dt\n",
    "        self.v = self.v + f/self.mass*dt\n",
    "        \n",
    "    def euler_cromer(self, f, dt):\n",
    "        self.omega = self.omega + f/self.mass*dt\n",
    "        self.theta = self.theta + self.omega*dt\n",
    "\n",
    "                \n",
    "    def verlet(self, Vo, a, dt):\n",
    "        self.update_E()\n",
    "        self.get_Forces(Vo, a)\n",
    "        self.x += self.vx*dt +.5*self.Fx/self.m*dt**2\n",
    "        self.y += self.vy*dt + .5*self.Fy/self.m*dt**2\n",
    "        self.vx += .5*self.Fx/self.m*dt\n",
    "        self.vy += .5*self.Fy/self.m*dt\n",
    "        self.get_Forces(Vo, a)\n",
    "        self.vx += .5*self.Fx/self.m*dt\n",
    "        self.vy += .5*self.Fy/self.m*dt\n",
    "\n",
    "\n",
    "db = 20.             \n",
    "bo=1.\n",
    "bmax = 100.\n",
    "bsteps = int((bmax-bo)/db)\n",
    "\n",
    "dt = 0.001\n",
    "tmax = 1000.\n",
    "tsteps = int(tmax/dt) \n",
    "\n",
    "Eo=3.\n",
    "rmax=1000.\n",
    "\n",
    "a=1.\n",
    "Vo=1.\n",
    "\n",
    "#This version let's you look at specifc trajectories as over time and at different bs for a fixed Energy\n",
    "ts = np.zeros(shape=(bsteps,tsteps))\n",
    "xs = np.zeros(shape=(bsteps,tsteps))\n",
    "ys = np.zeros(shape=(bsteps,tsteps))\n",
    "vxs = np.zeros(shape=(bsteps,tsteps))\n",
    "vys = np.zeros(shape=(bsteps,tsteps))\n",
    "Es = np.zeros(shape=(bsteps,tsteps))\n",
    "bs=np.zeros(shape=(bsteps))\n",
    "thetas=np.zeros(shape=(bsteps))\n",
    "\n",
    "m=1. #defines masses and starting positions, start along x axis for circular orbits\n",
    "\n",
    "b=bo\n",
    "for n in range(0, bsteps):\n",
    "    p=particle(m, -rmax, b, math.sqrt(2*Eo/m), 0., 0., 0., Eo)\n",
    "    for i in range(0, tsteps):\n",
    "            xs[n,i] = p.x\n",
    "            ys[n,i] = p.y\n",
    "            vxs[n,i]= p.vx\n",
    "            vys[n,i]= p.vy\n",
    "            Es[n,i] = p.KE\n",
    "            ts[n,i]=i*dt\n",
    "            p.verlet(Vo, a, dt)\n",
    "    thetas[n]=math.atan(p.y/p.x)\n",
    "    print(thetas[n])\n",
    "    bs[n]=b\n",
    "    b+=db\n",
    " \n",
    "\n",
    "pyplot.plot(bs, thetas, color=\"#FF0000\", ls='-', lw=3)\n",
    "\n",
    "#pyplot.plot(xs[0,:], ys[0,:], color=\"red\", ls='-', lw=3)\n",
    "#pyplot.plot(xs[1,:], ys[1,:], color=\"blue\", ls='-', lw=3)"
   ]
  },
  {
   "cell_type": "code",
   "execution_count": 2,
   "metadata": {
    "collapsed": false
   },
   "outputs": [
    {
     "data": {
      "text/plain": [
       "[<matplotlib.lines.Line2D at 0xb553706c>]"
      ]
     },
     "execution_count": 2,
     "metadata": {},
     "output_type": "execute_result"
    },
    {
     "data": {
      "image/png": "[encoded data removed]",
      "text/plain": [
       "<matplotlib.figure.Figure at 0xb55165cc>"
      ]
     },
     "metadata": {},
     "output_type": "display_data"
    }
   ],
   "source": [
    "#pyplot.plot(xs[0,:], ys[0,:], color=\"red\", ls='-', lw=3)\n",
    "pyplot.plot(xs[1,:], ys[1,:], color=\"blue\", ls='-', lw=3)\n",
    "pyplot.plot(xs[2,:], ys[2,:], color=\"green\", ls='-', lw=3)\n"
   ]
  },
  {
   "cell_type": "code",
   "execution_count": 14,
   "metadata": {
    "collapsed": false
   },
   "outputs": [
    {
     "name": "stdout",
     "output_type": "stream",
     "text": [
      "-0.00180899384181\n",
      "-0.00361797584435\n",
      "-0.00542693416883\n",
      "-0.00723585697737\n",
      "-0.00904473243351\n",
      "-0.0108535487026\n",
      "-0.0126622939524\n",
      "-0.0144709563534\n",
      "-0.0162795240793\n",
      "-0.887697518502\n",
      "1.55606898519\n",
      "1.0794772868\n",
      "0.769360073533\n",
      "0.567480011892\n",
      "0.43328852135\n",
      "0.34162572694\n",
      "0.277279380451\n",
      "0.230974173648\n",
      "0.372895837524\n",
      "0.328139944895\n",
      "0.180450054245\n",
      "0.109694744425\n",
      "0.0731592775247\n",
      "0.0523664644526\n",
      "0.0395795468531\n",
      "0.0312378211248\n",
      "0.0255454635795\n",
      "-0.249937458181\n",
      "0.0351247664948\n",
      "0.0194438700632\n",
      "0.0116526460857\n",
      "0.00777209918989\n",
      "0.0056305857609\n",
      "0.00434975329876\n",
      "0.00353818319945\n",
      "0.00300286853313\n"
     ]
    }
   ],
   "source": [
    "%matplotlib inline\n",
    "import numpy as np\n",
    "from matplotlib import pyplot\n",
    "from matplotlib.colors import ColorConverter as cc\n",
    "import math\n",
    "\n",
    "class particle(object):\n",
    "    \n",
    "    def __init__(self, m, x=0., y=0., vx=0., vy=0., Fx=0., Fy=0., KE=0.):\n",
    "        self.m = m\n",
    "        self.x = x\n",
    "        self.y = y\n",
    "        self.vx = vx\n",
    "        self.vy = vy\n",
    "        self.Fx=Fx\n",
    "        self.Fy=Fx\n",
    "        self.KE=KE\n",
    "    \n",
    "    def get_Forces(self, Vo, a):\n",
    "        r=self.get_r()\n",
    "        factor=24*Vo*(-3*a**6/r**7+1/r**4)*a**6\n",
    "        self.Fx=factor*self.x\n",
    "        self.Fy=factor*self.y\n",
    "        \n",
    "    def get_r(self):\n",
    "        return math.sqrt(self.x**2+self.y**2)\n",
    "\n",
    "    def euler(self, f, dt):\n",
    "        self.y = self.y + self.v*dt\n",
    "        self.v = self.v + f/self.mass*dt\n",
    "        \n",
    "    def euler_cromer(self, f, dt):\n",
    "        self.omega = self.omega + f/self.mass*dt\n",
    "        self.theta = self.theta + self.omega*dt\n",
    "\n",
    "                \n",
    "    def verlet(self, Vo, a, dt):\n",
    "        self.get_Forces(Vo, a)\n",
    "        self.x += self.vx*dt +.5*self.Fx/self.m*dt**2\n",
    "        self.y += self.vy*dt + .5*self.Fy/self.m*dt**2\n",
    "        self.vx += .5*self.Fx/self.m*dt\n",
    "        self.vy += .5*self.Fy/self.m*dt\n",
    "        self.get_Forces(Vo, a)\n",
    "        self.vx += .5*self.Fx/self.m*dt\n",
    "        self.vy += .5*self.Fy/self.m*dt\n",
    "\n",
    "\n",
    "db = 1.             \n",
    "bo=1.\n",
    "bmax = 10.\n",
    "bsteps = int((bmax-bo)/db)\n",
    "\n",
    "dt = 0.001\n",
    "tmax = 1000.\n",
    "tsteps = int(tmax/dt)\n",
    "\n",
    "\n",
    "rstart=-1000.\n",
    "\n",
    "#this version lets you cycle over a series of energies and b values but does not save individual trajectories\n",
    "a=1.\n",
    "Vo=10.\n",
    "Emin=.1*Vo\n",
    "Emax=100.*Vo\n",
    "\n",
    "\n",
    "bs=np.zeros(shape=(4,bsteps))\n",
    "thetas=np.zeros(shape=(4,bsteps))\n",
    "\n",
    "m=1. #defines masses and starting positions, start along x axis for circular orbits\n",
    "\n",
    "for epsilon in range(0,4):\n",
    "    Eo=Emin*10**epsilon\n",
    "    b=bo\n",
    "    for n in range(0, bsteps):\n",
    "        p=particle(m, rstart, b, math.sqrt(2*Eo/m), 0., 0., 0.)\n",
    "        for i in range(0, tsteps):\n",
    "            p.verlet(Vo, a, dt) #simply running verlet modeling to get final results without saving individual runs\n",
    "        thetas[epsilon,n]=math.atan(p.y/p.x)\n",
    "        print(thetas[epsilon,n])\n",
    "        bs[epsilon,n]=b\n",
    "        b+=db\n"
   ]
  },
  {
   "cell_type": "code",
   "execution_count": 16,
   "metadata": {
    "collapsed": false
   },
   "outputs": [
    {
     "data": {
      "text/plain": [
       "[<matplotlib.lines.Line2D at 0xad2c050c>]"
      ]
     },
     "execution_count": 16,
     "metadata": {},
     "output_type": "execute_result"
    },
    {
     "data": {
      "image/png": "[encoded data removed]",
      "text/plain": [
       "<matplotlib.figure.Figure at 0xad47f2ec>"
      ]
     },
     "metadata": {},
     "output_type": "display_data"
    }
   ],
   "source": [
    "pyplot.plot(bs[0,:], thetas[0,:], color=\"blue\", ls='-', lw=3)\n",
    "pyplot.plot(bs[1,:], thetas[1,:], color=\"green\", ls='-', lw=3)\n",
    "pyplot.plot(bs[2,:], thetas[2,:], color=\"red\", ls='-', lw=3)\n",
    "pyplot.plot(bs[3,:], thetas[3,:], color=\"orange\", ls='-', lw=3)\n"
   ]
  },
  {
   "cell_type": "code",
   "execution_count": 22,
   "metadata": {
    "collapsed": false
   },
   "outputs": [],
   "source": [
    "#Cross Section Calculator\n",
    "dsigmas=np.zeros(shape=(4,bsteps-1))\n",
    "averagethetas=np.zeros(shape=(4,bsteps-1))\n",
    "\n",
    "for epsilon in range(0,4):\n",
    "    b=bo\n",
    "    for n in range(1, bsteps):\n",
    "        averagethetas[epsilon,n-1]=(thetas[epsilon,n]+thetas[epsilon,n-1])/2\n",
    "        averageb=(bs[epsilon,n]+bs[epsilon,n-1])/2\n",
    "        f=math.fabs(db/(thetas[epsilon,n]-thetas[epsilon,n-1]))\n",
    "        dsigmas[epsilon,n-1]=averageb/math.sin(averagethetas[epsilon,n-1])*f\n",
    "        b+=db"
   ]
  },
  {
   "cell_type": "code",
   "execution_count": null,
   "metadata": {
    "collapsed": true
   },
   "outputs": [],
   "source": []
  }
 ],
 "metadata": {
  "kernelspec": {
   "display_name": "Python 2",
   "language": "python",
   "name": "python2"
  },
  "language_info": {
   "codemirror_mode": {
    "name": "ipython",
    "version": 2
   },
   "file_extension": ".py",
   "mimetype": "text/x-python",
   "name": "python",
   "nbconvert_exporter": "python",
   "pygments_lexer": "ipython2",
   "version": "2.7.10"
  }
 },
 "nbformat": 4,
 "nbformat_minor": 0
}
