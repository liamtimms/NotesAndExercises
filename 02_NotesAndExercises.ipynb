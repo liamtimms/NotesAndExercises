{
 "cells": [
  {
   "cell_type": "markdown",
   "metadata": {},
   "source": [
    "### Challenge 2.3"
   ]
  },
  {
   "cell_type": "code",
   "execution_count": 7,
   "metadata": {
    "collapsed": false
   },
   "outputs": [],
   "source": [
    "class particle(object):\n",
    "    \n",
    "    def __init__(self, mass=1., x=0., y=0., vx=0., vy=0., Fx=0., Fy=0.):\n",
    "        self.mass = mass\n",
    "        self.x = x\n",
    "        self.y = y\n",
    "        self.vx = vx\n",
    "        self.vy = vy\n",
    "        self.Fx=Fx\n",
    "        self.Fy=Fx\n",
    "        \n",
    "    def get_GM(self):\n",
    "        return 4*math.pi**2\n",
    "    \n",
    "    def get_CentralGravForces(self):\n",
    "        GM = self.get_GM()\n",
    "        r=math.sqrt(self.x**2+self.y**2)\n",
    "        rcubed=r**3\n",
    "        self.Fx=-GM*self.x/rcubed\n",
    "        self.Fy=-GM*self.y/rcubed\n",
    "    \n",
    "    def get_InteractionForces(self, particles, NPARTICLES): #must be called after get_CentralGravForces\n",
    "        GM = self.get_GM()\n",
    "        for i in range(0,NARTICLES):\n",
    "            deltaX=self.x-particles[i].x\n",
    "            deltaY=self.y-particles[i].y\n",
    "            if deltaX !=0 and deltaY !=0 :\n",
    "                r=math.sqrt((deltaX)**2+(deltaY)**2)\n",
    "                rcubed=r**3\n",
    "                self.Fx=self.Fx+deltaX*GM*self.m*particles[i].m/rcubed\n",
    "                self.Fy=self.Fy+deltaY*GM*self.m*particles[i].m/rcubed\n",
    "    \n",
    "    def get_Forces(self, particles):\n",
    "        self.get_CentralGravForces(self)\n",
    "        self.get_InteractionForces(self, particles)\n",
    "                \n",
    "    def verlet(self, particles, dt):\n",
    "        self.get_Forces(self, particles)\n",
    "        self.x += self.vx*dt +.5*self.Fx*dt**2\n",
    "        self.y += self.vy*dt + .5*self.Fy*dt**2\n",
    "        self.vx += .5*self.Fx*dt\n",
    "        self.vy += .5*self.Fy*dt\n",
    "        self.get_Forces(self, particles)\n",
    "        self.vx += .5*self.Fx*dt\n",
    "        self.vy += .5*self.Fy*dt\n",
    "        \n",
    "    "
   ]
  },
  {
   "cell_type": "code",
   "execution_count": null,
   "metadata": {
    "collapsed": true
   },
   "outputs": [],
   "source": []
  }
 ],
 "metadata": {
  "kernelspec": {
   "display_name": "Python 2",
   "language": "python",
   "name": "python2"
  },
  "language_info": {
   "codemirror_mode": {
    "name": "ipython",
    "version": 2
   },
   "file_extension": ".py",
   "mimetype": "text/x-python",
   "name": "python",
   "nbconvert_exporter": "python",
   "pygments_lexer": "ipython2",
   "version": "2.7.10"
  }
 },
 "nbformat": 4,
 "nbformat_minor": 0
}
