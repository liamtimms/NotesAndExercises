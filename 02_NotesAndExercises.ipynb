{
 "cells": [
  {
   "cell_type": "markdown",
   "metadata": {},
   "source": [
    "### Challenge 2.3"
   ]
  },
  {
   "cell_type": "code",
   "execution_count": 94,
   "metadata": {
    "collapsed": false
   },
   "outputs": [
    {
     "ename": "AttributeError",
     "evalue": "type object 'particle' has no attribute 'x'",
     "output_type": "error",
     "traceback": [
      "\u001b[1;31m---------------------------------------------------------------------------\u001b[0m",
      "\u001b[1;31mAttributeError\u001b[0m                            Traceback (most recent call last)",
      "\u001b[1;32m<ipython-input-94-c22fa2d5b5bd>\u001b[0m in \u001b[0;36m<module>\u001b[1;34m()\u001b[0m\n\u001b[0;32m     87\u001b[0m     \u001b[1;31m#particles.append(particle(masses[i], xs[0,i], ys[0,i], vxs[0,i], vys[0,i]))\u001b[0m\u001b[1;33m\u001b[0m\u001b[1;33m\u001b[0m\u001b[0m\n\u001b[0;32m     88\u001b[0m     \u001b[0mparticles\u001b[0m\u001b[1;33m.\u001b[0m\u001b[0mappend\u001b[0m\u001b[1;33m(\u001b[0m\u001b[0mparticle\u001b[0m\u001b[1;33m(\u001b[0m\u001b[1;36m1.\u001b[0m\u001b[1;33m,\u001b[0m \u001b[1;36m2.\u001b[0m\u001b[1;33m,\u001b[0m \u001b[1;36m3.\u001b[0m\u001b[1;33m)\u001b[0m\u001b[1;33m)\u001b[0m\u001b[1;33m\u001b[0m\u001b[0m\n\u001b[1;32m---> 89\u001b[1;33m     \u001b[1;32mprint\u001b[0m \u001b[0mparticles\u001b[0m\u001b[1;33m[\u001b[0m\u001b[0mi\u001b[0m\u001b[1;33m]\u001b[0m\u001b[1;33m.\u001b[0m\u001b[0mx\u001b[0m\u001b[1;33m\u001b[0m\u001b[0m\n\u001b[0m\u001b[0;32m     90\u001b[0m     \u001b[1;31m#p=particles[i]\u001b[0m\u001b[1;33m\u001b[0m\u001b[1;33m\u001b[0m\u001b[0m\n\u001b[0;32m     91\u001b[0m     \u001b[1;31m#particles[i].initv\u001b[0m\u001b[1;33m\u001b[0m\u001b[1;33m\u001b[0m\u001b[0m\n",
      "\u001b[1;31mAttributeError\u001b[0m: type object 'particle' has no attribute 'x'"
     ]
    }
   ],
   "source": [
    "%matplotlib inline\n",
    "import numpy as np\n",
    "from matplotlib import pyplot\n",
    "from matplotlib.colors import ColorConverter as cc\n",
    "import math\n",
    "\n",
    "class particle(object):\n",
    "    \n",
    "    def __init__(self, mass=1., x=0., y=0., vx=0., vy=0., Fx=0., Fy=0.):\n",
    "        self.mass = mass\n",
    "        self.x = x\n",
    "        self.y = y\n",
    "        self.vx = vx\n",
    "        self.vy = vy\n",
    "        self.Fx=Fx\n",
    "        self.Fy=Fx\n",
    "        \n",
    "    def get_GM(self):\n",
    "        return 4*math.pi**2\n",
    "    \n",
    "    def initv(self):\n",
    "        if self.y==0:\n",
    "            self.vy=math.sqrt(self.get_GM()/math.sqrt(self.x**2+self.y**2))\n",
    "        else:\n",
    "            print \"error:start along x axis for circular orbits\"\n",
    "            \n",
    "    def get_Velocity(self):\n",
    "        return math.sqrt(self.vx**2+self.vy**2)\n",
    "    \n",
    "    def get_Radius(self):\n",
    "        return math.sqrt(self.x**2+self.y**2)\n",
    "    \n",
    "    def get_CentralGravForces(self):\n",
    "        GM = self.get_GM()\n",
    "        r=math.sqrt(self.x**2+self.y**2)\n",
    "        rcubed=r**3\n",
    "        self.Fx=-GM*self.x/rcubed\n",
    "        self.Fy=-GM*self.y/rcubed\n",
    "    \n",
    "    def get_InteractionForces(self, particles, nplanets): #must be called after get_CentralGravForces\n",
    "        GM = self.get_GM()\n",
    "        for i in range(0,nplanets):\n",
    "            deltaX=self.x-particles[i].x\n",
    "            deltaY=self.y-particles[i].y\n",
    "            if deltaX !=0 and deltaY !=0 :\n",
    "                r=math.sqrt((deltaX)**2+(deltaY)**2)\n",
    "                rcubed=r**3\n",
    "                self.Fx=self.Fx+deltaX*GM*self.m*particles[i].m/rcubed\n",
    "                self.Fy=self.Fy+deltaY*GM*self.m*particles[i].m/rcubed\n",
    "    \n",
    "    def get_Forces(self, particles):\n",
    "        self.get_CentralGravForces(self)\n",
    "        self.get_InteractionForces(self, particles)\n",
    "                \n",
    "    def verlet(self, particles, dt):\n",
    "        self.get_Forces(self, particles)\n",
    "        self.x += self.vx*dt +.5*self.Fx*dt**2\n",
    "        self.y += self.vy*dt + .5*self.Fy*dt**2\n",
    "        self.vx += .5*self.Fx*dt\n",
    "        self.vy += .5*self.Fy*dt\n",
    "        self.get_Forces(self, particles)\n",
    "        self.vx += .5*self.Fx*dt\n",
    "        self.vy += .5*self.Fy*dt\n",
    "        \n",
    "nplanets=2\n",
    "\n",
    "dt = 0.001               # time step\n",
    "tmax = 2.\n",
    "nsteps = int(tmax/dt)\n",
    "\n",
    "masses=np.zeros(nplanets)\n",
    "    \n",
    "xs = np.zeros(shape=(nsteps,nplanets))\n",
    "ys = np.zeros(shape=(nsteps,nplanets))\n",
    "vxs = np.zeros(shape=(nsteps,nplanets))\n",
    "vys = np.zeros(shape=(nsteps,nplanets))\n",
    "Es = np.zeros(shape=(nsteps,nplanets))\n",
    "\n",
    "masses=[.1, .001] #defines masses and starting positions, start along x axis for circular orbits\n",
    "xs[0,0] = 1.5\n",
    "ys[0,0] = 0.\n",
    "xs[0,1] = 2.\n",
    "ys[0,1] = 0.\n",
    "\n",
    "particles=[particle]\n",
    "for i in range(0,nplanets):\n",
    "    #particles.append(particle(masses[i], xs[0,i], ys[0,i], vxs[0,i], vys[0,i]))\n",
    "    particles.append(particle(1., 2., 3.))\n",
    "    print particles[i].x\n",
    "    #p=particles[i]\n",
    "    #particles[i].initv\n",
    "    #v=particles[i].get_Velocity\n",
    "    #print p.x\n",
    "    r=particles[i].get_Radius\n",
    "    GM=particles[i].get_GM\n",
    "    #Es[0,i]=.5*v**2-GM/r\n",
    "\n",
    "\n",
    "      \n",
    "    "
   ]
  },
  {
   "cell_type": "code",
   "execution_count": null,
   "metadata": {
    "collapsed": true
   },
   "outputs": [],
   "source": []
  },
  {
   "cell_type": "code",
   "execution_count": null,
   "metadata": {
    "collapsed": true
   },
   "outputs": [],
   "source": []
  }
 ],
 "metadata": {
  "kernelspec": {
   "display_name": "Python 2",
   "language": "python",
   "name": "python2"
  },
  "language_info": {
   "codemirror_mode": {
    "name": "ipython",
    "version": 2
   },
   "file_extension": ".py",
   "mimetype": "text/x-python",
   "name": "python",
   "nbconvert_exporter": "python",
   "pygments_lexer": "ipython2",
   "version": "2.7.10"
  }
 },
 "nbformat": 4,
 "nbformat_minor": 0
}
